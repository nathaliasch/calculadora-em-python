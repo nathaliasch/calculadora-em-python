{
  "nbformat": 4,
  "nbformat_minor": 0,
  "metadata": {
    "colab": {
      "provenance": []
    },
    "kernelspec": {
      "name": "python3",
      "display_name": "Python 3"
    },
    "language_info": {
      "name": "python"
    }
  },
  "cells": [
    {
      "cell_type": "markdown",
      "source": [
        "# Calculadora em Python\n",
        "\n",
        "## Desenvolva uma calculadora em Python com tudo o que você aprendeu até aqui no curso."
      ],
      "metadata": {
        "id": "PDpsg6QH5beD"
      }
    },
    {
      "cell_type": "code",
      "source": [
        "print(\"\\n *************** Calculadora em Python ***************\")\n",
        "\n",
        "def soma(x, y):\n",
        "  return x + y\n",
        "\n",
        "def subtracao (x, y):\n",
        "  return x - y\n",
        "\n",
        "def multiplicacao (x, y):\n",
        "  return x * y\n",
        "\n",
        "def divisao (x, y):\n",
        "  return x / y\n",
        "\n",
        "\n",
        "print(\"\\n Selecione o número da opção desejada:\")\n",
        "print(\"\\n 1 - Soma\")\n",
        "print(\"\\n 2 - Subtração\")\n",
        "print(\"\\n 3 - Multiplicação\")\n",
        "print(\"\\n 4 - Divisão\")\n",
        "\n",
        "opcao = int(input(\"\\n Digite a sua opção (1, 2, 3 ou 4): \"))\n",
        "\n",
        "num1 = int(input(\"Digite o primeiro número: \"))\n",
        "num2 = int(input(\"Digite o segundo número: \"))\n",
        "\n",
        "\n",
        "if opcao == 1:\n",
        "  print(num1, \"+\", num2, \"=\", soma(num1, num2))\n",
        "elif opcao ==2:\n",
        "  print(num1, \"-\", num2, \"=\", subtracao(num1, num2))\n",
        "elif opcao == 3:\n",
        "  print(num1, \"*\", num2, \"=\", multiplicacao(num1, num2))\n",
        "elif opcao == 4:\n",
        "  print(num1, \"/\", num2, \"=\", divisao(num1, num2))\n",
        "else:\n",
        "  print(\"Esta opção não é válida.\")"
      ],
      "metadata": {
        "colab": {
          "base_uri": "https://localhost:8080/"
        },
        "id": "9IhSbIcb5c6a",
        "outputId": "92ca3017-75c3-4cf1-a72e-63b68b454913"
      },
      "execution_count": 15,
      "outputs": [
        {
          "output_type": "stream",
          "name": "stdout",
          "text": [
            "\n",
            " *************** Calculadora em Python ***************\n",
            "\n",
            " Selecione o número da opção desejada:\n",
            "\n",
            " 1 - Soma\n",
            "\n",
            " 2 - Subtração\n",
            "\n",
            " 3 - Multiplicação\n",
            "\n",
            " 4 - Divisão\n",
            "\n",
            " Digite a sua opção (1, 2, 3 ou 4): 2\n",
            "Digite o primeiro número: 10\n",
            "Digite o segundo número: 3\n",
            "10 - 3 = 7\n"
          ]
        }
      ]
    },
    {
      "cell_type": "code",
      "source": [],
      "metadata": {
        "id": "P7YiNqs86Nmm"
      },
      "execution_count": null,
      "outputs": []
    }
  ]
}